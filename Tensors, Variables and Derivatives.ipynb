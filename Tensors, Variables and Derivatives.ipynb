{
 "cells": [
  {
   "cell_type": "code",
   "execution_count": 2,
   "id": "7601b3c5",
   "metadata": {},
   "outputs": [],
   "source": [
    "import numpy as np\n",
    "import tensorflow as tf"
   ]
  },
  {
   "cell_type": "markdown",
   "id": "4ed6ff88",
   "metadata": {},
   "source": [
    "# Linear Regression (once again):"
   ]
  },
  {
   "cell_type": "markdown",
   "id": "87349704",
   "metadata": {},
   "source": [
    "<img src=\"images/LR.png\">\n",
    "\n",
    "\n",
    "Recall that Linear Regression with Gradient Descent involves the following steps:\n",
    "\n",
    "\n",
    "***\n",
    "__1. Collect predictions *(Forward Pass)*__ :\n",
    "\\begin{align}\n",
    "\\ \\tilde{y_i} &= mx_i + b \\\\\n",
    "\\end{align}\n",
    "***\n",
    "\n",
    "***\n",
    "__2. Compute Mean Squared Error / Loss:__\n",
    "\\begin{align}\n",
    "\\ L & = \\frac{1}{N} \\sum_{k=1}^N (y_k - \\tilde{y_k})^2 \\\\\n",
    "\\end{align}\n",
    "***\n",
    "\n",
    "***\n",
    "__3. Compute Derivatives _(Backward Pass)_ :__\n",
    "\\begin{align}\n",
    "\\ \\frac{\\partial L}{\\partial m} &= -\\frac{2}{N} \\sum_{k=1}^N x_k(y_k - \\tilde{y_k})\\\\\n",
    "\\end{align}\n",
    "\\begin{align}\n",
    "\\ \\frac{\\partial L}{\\partial b} &= -\\frac{2}{N} \\sum_{k=1}^N (y_k - \\tilde{y_k})\\\\\n",
    "\\end{align}\n",
    "***\n",
    "\n",
    "***\n",
    "__4. Update Parameters:__\n",
    "\\begin{align}\n",
    "\\ m &= m - \\alpha \\frac{dL}{dm} \\\\\n",
    "\\ b &= b - \\alpha \\frac{dL}{db} \\\\\n",
    "\\end{align}\n",
    "***\n",
    "\n",
    "        "
   ]
  },
  {
   "cell_type": "markdown",
   "id": "e75304cc",
   "metadata": {},
   "source": [
    "__Represented as a Computational Graph:__\n",
    "\n",
    "<img src=\"images/comp-graph.png\" alt=\"drawing\" style=\"width:100px;\"/>\n"
   ]
  },
  {
   "cell_type": "markdown",
   "id": "eab52f77",
   "metadata": {},
   "source": [
    "<font color=\"green\"> __This reveals the essential Buidling Blocks of a Deep Learning API__ </font>\n",
    "\n",
    "\n",
    "1. __Tensors__\n",
    "2. __Variables__\n",
    "3. __Computational Graph__\n",
    "4. __Automatic differentiation__\n"
   ]
  },
  {
   "cell_type": "markdown",
   "id": "8cd83081",
   "metadata": {},
   "source": [
    "# 1. Tensors"
   ]
  },
  {
   "cell_type": "markdown",
   "id": "ece13c8b",
   "metadata": {},
   "source": [
    "Similar to numpy arrays, Tensors are multi-dimensioanl arrays of a uniform datatype. Unlike numpy arrays however, Tensors are immputable; i.e. you can't update the contents of a tensor."
   ]
  },
  {
   "cell_type": "markdown",
   "id": "db653be5",
   "metadata": {},
   "source": [
    "Tensors are described by their:\n",
    "\n",
    "- __Shape__: Length of each of the axes\n",
    "- __Rank__: Number of axes\n",
    "- __Size__: Total number of elements in the tensor."
   ]
  },
  {
   "cell_type": "markdown",
   "id": "4dcda303",
   "metadata": {},
   "source": [
    "Lets instantiate some basic Tensors"
   ]
  },
  {
   "cell_type": "code",
   "execution_count": 4,
   "id": "832b7f14",
   "metadata": {},
   "outputs": [
    {
     "name": "stdout",
     "output_type": "stream",
     "text": [
      "tf.Tensor(\n",
      "[[1 2 3]\n",
      " [4 5 6]\n",
      " [7 8 9]], shape=(3, 3), dtype=int32)\n",
      "dtype: <dtype: 'int32'>\n",
      "shape: (3, 3)\n"
     ]
    }
   ],
   "source": [
    "# Create a tensor\n",
    "\n",
    "x = tf.constant([[1, 2, 3], [4, 5, 6], [7, 8, 9]])\n",
    "print(x)\n",
    "print(\"dtype:\", x.dtype)\n",
    "print(\"shape:\", x.shape)"
   ]
  },
  {
   "cell_type": "code",
   "execution_count": 5,
   "id": "244305a5",
   "metadata": {},
   "outputs": [
    {
     "name": "stdout",
     "output_type": "stream",
     "text": [
      "<dtype: 'float64'>\n"
     ]
    }
   ],
   "source": [
    "# We can also specify the dtype\n",
    "\n",
    "x = tf.constant([[1,2,3],[4,5,6],[7,8,9]], dtype=tf.float64)\n",
    "print(x.dtype)"
   ]
  },
  {
   "cell_type": "code",
   "execution_count": 6,
   "id": "b6d6f9ea",
   "metadata": {},
   "outputs": [
    {
     "name": "stdout",
     "output_type": "stream",
     "text": [
      "\n",
      " Zeros:\n",
      "  tf.Tensor([[0. 0. 0. 0. 0. 0.]], shape=(1, 6), dtype=float32)\n",
      "\n",
      " Ones:\n",
      "  tf.Tensor(\n",
      "[[1. 1. 1.]\n",
      " [1. 1. 1.]], shape=(2, 3), dtype=float32)\n",
      "\n",
      " Eights:  tf.Tensor(\n",
      "[[8 8 8 8]\n",
      " [8 8 8 8]\n",
      " [8 8 8 8]], shape=(3, 4), dtype=int32)\n",
      "\n",
      "\n",
      " normal:\n",
      "  tf.Tensor(\n",
      "[[ 0.10802658 -1.4983894 ]\n",
      " [ 0.3651539   0.7563148 ]], shape=(2, 2), dtype=float32)\n",
      "\n",
      " uniform:\n",
      "  tf.Tensor(\n",
      "[[9]\n",
      " [7]], shape=(2, 1), dtype=int32)\n",
      "\n",
      " poisson:  tf.Tensor(\n",
      "[[3. 0.]\n",
      " [7. 4.]], shape=(2, 2), dtype=float32)\n"
     ]
    }
   ],
   "source": [
    "# Some other common methods of instantiating tensors:\n",
    "\n",
    "# Constants\n",
    "zeros = tf.zeros(shape=(1,6))\n",
    "ones = tf.ones(shape=(2,3))\n",
    "eights = tf.constant(8, shape=(3,4))\n",
    "\n",
    "print(\"\\n Zeros:\\n \", zeros)\n",
    "print(\"\\n Ones:\\n \", ones)\n",
    "print(\"\\n Eights: \", eights)\n",
    "\n",
    "\n",
    "# Randomly sampled\n",
    "normal = tf.random.normal(shape=(2,2), mean=0, stddev=1.)\n",
    "uniform = tf.random.uniform(shape=(2,1), minval=0, maxval=10, dtype='int32')\n",
    "poisson = tf.random.poisson((2,2), 5)\n",
    "\n",
    "\n",
    "print(\"\\n\\n normal:\\n \", normal)\n",
    "print(\"\\n uniform:\\n \", uniform)\n",
    "print(\"\\n poisson: \", poisson)"
   ]
  },
  {
   "cell_type": "code",
   "execution_count": 7,
   "id": "5922af8e",
   "metadata": {},
   "outputs": [
    {
     "name": "stdout",
     "output_type": "stream",
     "text": [
      "Rank of rank_2_tensor :  tf.Tensor(2, shape=(), dtype=int32)\n",
      "Rank of rank_3_tensor :  tf.Tensor(3, shape=(), dtype=int32)\n",
      "\n",
      "Rank of rank_2_tensor :  (3, 2)\n",
      "Rank of rank_3_tensor :  (3, 2, 5)\n",
      "\n",
      "Rank of rank_2_tensor :  tf.Tensor(6, shape=(), dtype=int32)\n",
      "Rank of rank_3_tensor :  tf.Tensor(30, shape=(), dtype=int32)\n"
     ]
    }
   ],
   "source": [
    "# Tensors of different ranks\n",
    "\n",
    "# Scalar\n",
    "rank_0_tensor = tf.constant(6) \n",
    "# Vector\n",
    "rank_1_tensor = tf.constant([2.0, 3.0, 4.0])\n",
    "# Matrix\n",
    "rank_2_tensor = tf.constant([[1, 2],\n",
    "                             [3, 4],\n",
    "                             [5, 6]], dtype=tf.float16)\n",
    "\n",
    "# Generalizable to arbitrary number of axes\n",
    "rank_3_tensor = tf.constant([\n",
    "  [[0, 1, 2, 3, 4],\n",
    "   [5, 6, 7, 8, 9]],\n",
    "  [[10, 11, 12, 13, 14],\n",
    "   [15, 16, 17, 18, 19]],\n",
    "  [[20, 21, 22, 23, 24],\n",
    "   [25, 26, 27, 28, 29]],])\n",
    "\n",
    "\n",
    "# Print the rank, shape and size of tensors\n",
    "print( 'Rank of rank_2_tensor : ', tf.rank(rank_2_tensor) )\n",
    "print( 'Rank of rank_3_tensor : ', tf.rank(rank_3_tensor) )\n",
    "print()\n",
    "print( 'Rank of rank_2_tensor : ', rank_2_tensor.shape )\n",
    "print( 'Rank of rank_3_tensor : ', rank_3_tensor.shape )\n",
    "print()\n",
    "print( 'Rank of rank_2_tensor : ', tf.size(rank_2_tensor) )\n",
    "print( 'Rank of rank_3_tensor : ', tf.size(rank_3_tensor) )"
   ]
  },
  {
   "cell_type": "markdown",
   "id": "41ac44a4",
   "metadata": {},
   "source": [
    "#### a) A few basic math operations"
   ]
  },
  {
   "cell_type": "code",
   "execution_count": 9,
   "id": "faaa1dcf",
   "metadata": {},
   "outputs": [
    {
     "name": "stdout",
     "output_type": "stream",
     "text": [
      "tf.Tensor(\n",
      "[[2. 3.]\n",
      " [3. 5.]], shape=(2, 2), dtype=float32) \n",
      "\n",
      "tf.Tensor(\n",
      "[[0. 1.]\n",
      " [3. 3.]], shape=(2, 2), dtype=float32) \n",
      "\n",
      "tf.Tensor(\n",
      "[[1. 2.]\n",
      " [0. 4.]], shape=(2, 2), dtype=float32) \n",
      "\n",
      "tf.Tensor(\n",
      "[[1. 3.]\n",
      " [3. 7.]], shape=(2, 2), dtype=float32) \n",
      "\n"
     ]
    }
   ],
   "source": [
    "a = tf.constant([[1.0, 2.0], \n",
    "                 [3.0, 4.0]])\n",
    "b = tf.constant([[1.0, 1.0], \n",
    "                 [0.0, 1.0]])\n",
    "\n",
    "\n",
    "print(tf.add(a, b), \"\\n\")\n",
    "print(tf.subtract(a,b), \"\\n\")\n",
    "print(tf.multiply(a, b), \"\\n\")\n",
    "print(tf.matmul(a, b), \"\\n\")"
   ]
  },
  {
   "cell_type": "code",
   "execution_count": 10,
   "id": "61e616a5",
   "metadata": {},
   "outputs": [
    {
     "name": "stdout",
     "output_type": "stream",
     "text": [
      "tf.Tensor(\n",
      "[[2. 3.]\n",
      " [3. 5.]], shape=(2, 2), dtype=float32) \n",
      "\n",
      "tf.Tensor(\n",
      "[[0. 1.]\n",
      " [3. 3.]], shape=(2, 2), dtype=float32) \n",
      "\n",
      "tf.Tensor(\n",
      "[[1. 2.]\n",
      " [0. 4.]], shape=(2, 2), dtype=float32) \n",
      "\n",
      "tf.Tensor(\n",
      "[[1. 3.]\n",
      " [3. 7.]], shape=(2, 2), dtype=float32) \n",
      "\n"
     ]
    }
   ],
   "source": [
    "# Equivalently\n",
    "print(a + b, \"\\n\") # element-wise addition\n",
    "print(a - b, \"\\n\") # element-wise subtraction\n",
    "print(a * b, \"\\n\") # element-wise multiplication\n",
    "print(a @ b, \"\\n\") # matrix multiplication"
   ]
  },
  {
   "cell_type": "code",
   "execution_count": 11,
   "id": "e4507558",
   "metadata": {},
   "outputs": [
    {
     "name": "stdout",
     "output_type": "stream",
     "text": [
      "\n",
      "  tf.Tensor(\n",
      "[[1. 2.]\n",
      " [3. 4.]], shape=(2, 2), dtype=float32)\n",
      "\n",
      "  tf.Tensor(\n",
      "[[1. 2.]\n",
      " [1. 4.]], shape=(2, 2), dtype=float32)\n"
     ]
    }
   ],
   "source": [
    "# Taking the absolute value\n",
    "abs_a = tf.abs(a)\n",
    "\n",
    "# Raising to a power\n",
    "pow_ba = tf.pow(a,b)\n",
    "\n",
    "print(\"\\n \", abs_a)\n",
    "print(\"\\n \", pow_ba)"
   ]
  },
  {
   "cell_type": "markdown",
   "id": "9b3e11a9",
   "metadata": {},
   "source": [
    "#### b) Indexing, Slicing and Reshaping"
   ]
  },
  {
   "cell_type": "markdown",
   "id": "b7ec21c3",
   "metadata": {},
   "source": [
    "The indexing, slicing and reshaping rules are similar to NumPy.\n",
    "\n",
    "- index starts at 0\n",
    "- colons `:` are used for slices `start:stop:step`"
   ]
  },
  {
   "cell_type": "code",
   "execution_count": 12,
   "id": "1fe5197c",
   "metadata": {},
   "outputs": [
    {
     "name": "stdout",
     "output_type": "stream",
     "text": [
      "tf.Tensor([1 2 3], shape=(3,), dtype=int32)\n"
     ]
    }
   ],
   "source": [
    "t1 = tf.constant([0, 1, 2, 3, 4, 5, 6, 7])\n",
    "\n",
    "\n",
    "\n",
    "print(t1[1:4])"
   ]
  },
  {
   "cell_type": "code",
   "execution_count": 13,
   "id": "eee9b303",
   "metadata": {},
   "outputs": [
    {
     "name": "stdout",
     "output_type": "stream",
     "text": [
      "tf.Tensor([1 2 3], shape=(3,), dtype=int32)\n"
     ]
    }
   ],
   "source": [
    "# Alternatively\n",
    "\n",
    "print(tf.slice(t1,\n",
    "               begin=[1],\n",
    "               size=[3]))"
   ]
  },
  {
   "cell_type": "code",
   "execution_count": 14,
   "id": "868b8f01",
   "metadata": {},
   "outputs": [
    {
     "name": "stdout",
     "output_type": "stream",
     "text": [
      "\n",
      " a:\n",
      "  tf.Tensor(\n",
      "[[ 0  1]\n",
      " [ 2  3]\n",
      " [ 4  5]\n",
      " [ 6  7]\n",
      " [ 8  9]\n",
      " [10 11]\n",
      " [12 13]\n",
      " [14 15]], shape=(8, 2), dtype=int32)\n",
      "\n",
      " b:\n",
      "  tf.Tensor(\n",
      "[[ 0  1  2  3]\n",
      " [ 4  5  6  7]\n",
      " [ 8  9 10 11]\n",
      " [12 13 14 15]], shape=(4, 4), dtype=int32)\n",
      "\n",
      " c:\n",
      "  tf.Tensor(\n",
      "[[[[ 0  1]\n",
      "   [ 2  3]]\n",
      "\n",
      "  [[ 4  5]\n",
      "   [ 6  7]]]\n",
      "\n",
      "\n",
      " [[[ 8  9]\n",
      "   [10 11]]\n",
      "\n",
      "  [[12 13]\n",
      "   [14 15]]]], shape=(2, 2, 2, 2), dtype=int32)\n"
     ]
    }
   ],
   "source": [
    "# Reshaping\n",
    "\n",
    "x = tf.constant([0, 1, 2, 3, 4, 5, 6, 7, 8, 9, 10, 11, 12, 13, 14, 15])\n",
    "\n",
    "shape1 = [8,2]\n",
    "shape2 = [4,4]\n",
    "shape3 = [2,2,2,2]\n",
    "\n",
    "\n",
    "# Create Tensors of different shape\n",
    "\n",
    "a = tf.constant(x, shape=shape1)\n",
    "print(\"\\n a:\\n \", a)\n",
    "\n",
    "b = tf.constant(x, shape=shape2)\n",
    "print(\"\\n b:\\n \", b)\n",
    "\n",
    "c = tf.constant(x, shape=shape3)\n",
    "print(\"\\n c:\\n \", c)"
   ]
  },
  {
   "cell_type": "code",
   "execution_count": 15,
   "id": "bf7b6b42",
   "metadata": {},
   "outputs": [
    {
     "name": "stdout",
     "output_type": "stream",
     "text": [
      "\n",
      " After expanding dims:\n",
      " t1 shape:  (1, 2, 2, 2, 2) \n",
      " t2 shape:  (2, 1, 2, 2, 2) \n",
      " t3 shape:  (2, 2, 2, 1, 2)\n",
      "\n",
      " After squeezing:\n",
      " t1 shape:  (2, 2, 2, 2) \n",
      " t2 shape:  (2, 2, 2, 2) \n",
      " t3 shape:  (2, 2, 2, 2)\n"
     ]
    }
   ],
   "source": [
    "# Expanding rank of Tensors\n",
    "\n",
    "t1 = tf.expand_dims(c, 0)\n",
    "t2 = tf.expand_dims(c, 1)\n",
    "t3 = tf.expand_dims(c, 3)\n",
    "\n",
    "print(\"\\n After expanding dims:\\n t1 shape: \", t1.shape, \"\\n t2 shape: \", t2.shape, \"\\n t3 shape: \", t3.shape)\n",
    "\n",
    "\n",
    "# Squeezing redundant dimensions\n",
    "\n",
    "t1 = tf.squeeze(t1, 0)\n",
    "t2 = tf.squeeze(t2, 1)\n",
    "t3 = tf.squeeze(t3, 3)\n",
    "\n",
    "print(\"\\n After squeezing:\\n t1 shape: \", t1.shape, \"\\n t2 shape: \", t2.shape, \"\\n t3 shape: \", t3.shape)"
   ]
  },
  {
   "cell_type": "markdown",
   "id": "01529749",
   "metadata": {},
   "source": [
    "#### c) Converting between Numpy Arrays and Tensorflow Tensors "
   ]
  },
  {
   "cell_type": "code",
   "execution_count": 16,
   "id": "2283596a",
   "metadata": {},
   "outputs": [
    {
     "name": "stdout",
     "output_type": "stream",
     "text": [
      "Numpy array:  [ 0  1  2  3  4  5  6  7  8  9 10 11]\n",
      "Tensor:  tf.Tensor([ 0.  1.  2.  3.  4.  5.  6.  7.  8.  9. 10. 11.], shape=(12,), dtype=float32)\n"
     ]
    }
   ],
   "source": [
    "# Numpy array to tensor\n",
    "\n",
    "Array = np.arange(12)\n",
    "print('Numpy array: ', Array)\n",
    "\n",
    "\n",
    "Tensor = tf.constant(Array, dtype=tf.float32)\n",
    "print('Tensor: ', Tensor)"
   ]
  },
  {
   "cell_type": "code",
   "execution_count": 17,
   "id": "22b35b5d",
   "metadata": {},
   "outputs": [
    {
     "data": {
      "text/plain": [
       "array([ 0.,  1.,  2.,  3.,  4.,  5.,  6.,  7.,  8.,  9., 10., 11.],\n",
       "      dtype=float32)"
      ]
     },
     "execution_count": 17,
     "metadata": {},
     "output_type": "execute_result"
    }
   ],
   "source": [
    "# Tensor to Numpy array \n",
    "\n",
    "Tensor.numpy()"
   ]
  },
  {
   "cell_type": "markdown",
   "id": "9864da08",
   "metadata": {},
   "source": [
    "# 2. Variables "
   ]
  },
  {
   "cell_type": "markdown",
   "id": "429d9531",
   "metadata": {},
   "source": [
    "Recall that Tensors are immutabele. Hence the following will throw an error:\n",
    "\n",
    "```\n",
    "x = tf.constant([[1,1],\n",
    "                 [1,1]], dtype=tf.int32)\n",
    "x[1,1] = 0\n",
    "---------------------------------------------------------------------------\n",
    "TypeError: 'tensorflow.python.framework.ops.EagerTensor' object does not support item assignment\n",
    "\n",
    "```\n",
    "\n",
    "However, training a model means updating its parameters, which are a set of tensors. This is where `tf.Variable` comes in. A variable is a tensor whose value be changed."
   ]
  },
  {
   "cell_type": "code",
   "execution_count": null,
   "id": "f1f62a45",
   "metadata": {},
   "outputs": [],
   "source": []
  },
  {
   "cell_type": "markdown",
   "id": "5ad98c88",
   "metadata": {},
   "source": [
    "# 3. Automatic Differentiation "
   ]
  },
  {
   "cell_type": "code",
   "execution_count": null,
   "id": "0e245e52",
   "metadata": {},
   "outputs": [],
   "source": []
  }
 ],
 "metadata": {
  "kernelspec": {
   "display_name": "Python [conda env:opence-v1.2.2]",
   "language": "python",
   "name": "conda-env-opence-v1.2.2-py"
  },
  "language_info": {
   "codemirror_mode": {
    "name": "ipython",
    "version": 3
   },
   "file_extension": ".py",
   "mimetype": "text/x-python",
   "name": "python",
   "nbconvert_exporter": "python",
   "pygments_lexer": "ipython3",
   "version": "3.8.0"
  }
 },
 "nbformat": 4,
 "nbformat_minor": 5
}
