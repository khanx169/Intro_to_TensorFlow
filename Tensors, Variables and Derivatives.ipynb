{
 "cells": [
  {
   "cell_type": "markdown",
   "id": "8bbee723",
   "metadata": {},
   "source": [
    "# Linear Regression (once again):"
   ]
  },
  {
   "cell_type": "markdown",
   "id": "bab9e97e",
   "metadata": {},
   "source": [
    "<img src=\"images/LR.png\">\n",
    "\n",
    "\n",
    "Recall that Linear Regression with Gradient Descent involves the following steps:\n",
    "\n",
    "\n",
    "***\n",
    "__1. Collect predictions *(Forward Pass)*__ :\n",
    "\\begin{align}\n",
    "\\ \\tilde{y_i} &= mx_i + b \\\\\n",
    "\\end{align}\n",
    "***\n",
    "\n",
    "***\n",
    "__2. Compute Mean Squared Error / Loss:__\n",
    "\\begin{align}\n",
    "\\ L & = \\frac{1}{N} \\sum_{k=1}^N (y_k - \\tilde{y_k})^2 \\\\\n",
    "\\end{align}\n",
    "***\n",
    "\n",
    "***\n",
    "__3. Compute Derivatives _(Backward Pass)_ :__\n",
    "\\begin{align}\n",
    "\\ \\frac{\\partial L}{\\partial m} &= -\\frac{2}{N} \\sum_{k=1}^N x_k(y_k - \\tilde{y_k})\\\\\n",
    "\\end{align}\n",
    "\\begin{align}\n",
    "\\ \\frac{\\partial L}{\\partial b} &= -\\frac{2}{N} \\sum_{k=1}^N (y_k - \\tilde{y_k})\\\\\n",
    "\\end{align}\n",
    "***\n",
    "\n",
    "***\n",
    "__4. Update Parameters:__\n",
    "\\begin{align}\n",
    "\\ m &= m - \\alpha \\frac{dL}{dm} \\\\\n",
    "\\ b &= b - \\alpha \\frac{dL}{db} \\\\\n",
    "\\end{align}\n",
    "***\n",
    "\n",
    "        "
   ]
  },
  {
   "cell_type": "markdown",
   "id": "66864c88",
   "metadata": {},
   "source": [
    "__Represented as a Computational Graph:__\n",
    "\n",
    "<img src=\"images/comp-graph.png\" alt=\"drawing\" style=\"width:100px;\"/>\n"
   ]
  },
  {
   "cell_type": "markdown",
   "id": "b98e5d2a",
   "metadata": {},
   "source": [
    "<font color=\"green\"> __This reveals the essential Buidling Blocks of a Deep Learning API__ </font>\n",
    "\n",
    "\n",
    "1. __Tensors__\n",
    "2. __Variables__\n",
    "3. __Computational Graph__\n",
    "4. __Automatic differentiation__\n"
   ]
  },
  {
   "cell_type": "markdown",
   "id": "d72e5909",
   "metadata": {},
   "source": [
    "# 1. Tensors"
   ]
  },
  {
   "cell_type": "code",
   "execution_count": null,
   "id": "212111a6",
   "metadata": {},
   "outputs": [],
   "source": []
  },
  {
   "cell_type": "markdown",
   "id": "04438c34",
   "metadata": {},
   "source": [
    "# 2. Variables "
   ]
  },
  {
   "cell_type": "code",
   "execution_count": null,
   "id": "3300097e",
   "metadata": {},
   "outputs": [],
   "source": []
  },
  {
   "cell_type": "markdown",
   "id": "c74143f6",
   "metadata": {},
   "source": [
    "# 3. Automatic Differentiation "
   ]
  },
  {
   "cell_type": "code",
   "execution_count": null,
   "id": "633a2203",
   "metadata": {},
   "outputs": [],
   "source": []
  }
 ],
 "metadata": {
  "kernelspec": {
   "display_name": "Python [conda env:opence-v1.2.2]",
   "language": "python",
   "name": "conda-env-opence-v1.2.2-py"
  },
  "language_info": {
   "codemirror_mode": {
    "name": "ipython",
    "version": 3
   },
   "file_extension": ".py",
   "mimetype": "text/x-python",
   "name": "python",
   "nbconvert_exporter": "python",
   "pygments_lexer": "ipython3",
   "version": "3.8.0"
  }
 },
 "nbformat": 4,
 "nbformat_minor": 5
}
