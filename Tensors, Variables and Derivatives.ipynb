{
 "cells": [
  {
   "cell_type": "code",
   "execution_count": 1,
   "id": "33fe929b",
   "metadata": {},
   "outputs": [],
   "source": [
    "import numpy as np\n",
    "import tensorflow as tf\n",
    "import matplotlib.pyplot as plt"
   ]
  },
  {
   "cell_type": "markdown",
   "id": "d327bf73",
   "metadata": {},
   "source": [
    "# Linear Regression (once again):"
   ]
  },
  {
   "cell_type": "markdown",
   "id": "e4d90324",
   "metadata": {},
   "source": [
    "<img src=\"images/LR.png\">\n",
    "\n",
    "\n",
    "Recall that Linear Regression with Gradient Descent involves the following steps:\n",
    "\n",
    "\n",
    "***\n",
    "__1. Collect predictions *(Forward Pass)*__ :\n",
    "\\begin{align}\n",
    "\\ \\tilde{y_i} &= mx_i + b \\\\\n",
    "\\end{align}\n",
    "***\n",
    "\n",
    "***\n",
    "__2. Compute Mean Squared Error / Loss:__\n",
    "\\begin{align}\n",
    "\\ L & = \\frac{1}{N} \\sum_{k=1}^N (y_k - \\tilde{y_k})^2 \\\\\n",
    "\\end{align}\n",
    "***\n",
    "\n",
    "***\n",
    "__3. Compute Derivatives _(Backward Pass)_ :__\n",
    "\\begin{align}\n",
    "\\ \\frac{\\partial L}{\\partial m} &= -\\frac{2}{N} \\sum_{k=1}^N x_k(y_k - \\tilde{y_k})\\\\\n",
    "\\end{align}\n",
    "\\begin{align}\n",
    "\\ \\frac{\\partial L}{\\partial b} &= -\\frac{2}{N} \\sum_{k=1}^N (y_k - \\tilde{y_k})\\\\\n",
    "\\end{align}\n",
    "***\n",
    "\n",
    "***\n",
    "__4. Update Parameters:__\n",
    "\\begin{align}\n",
    "\\ m &= m - \\alpha \\frac{dL}{dm} \\\\\n",
    "\\ b &= b - \\alpha \\frac{dL}{db} \\\\\n",
    "\\end{align}\n",
    "***\n",
    "\n",
    "        "
   ]
  },
  {
   "cell_type": "markdown",
   "id": "9a1788bf",
   "metadata": {},
   "source": [
    "__Represented as a Computational Graph:__\n",
    "\n",
    "<img src=\"images/comp-graph.png\" alt=\"drawing\" style=\"width:500px;\"/>\n"
   ]
  },
  {
   "cell_type": "markdown",
   "id": "40f295b7",
   "metadata": {},
   "source": [
    "<font color=\"green\"> __This reveals the essential Buidling Blocks of a Deep Learning API__ </font>\n",
    "\n",
    "\n",
    "1. __Tensors__\n",
    "2. __Variables__\n",
    "3. __Computational Graph__\n",
    "4. __Automatic differentiation__\n"
   ]
  },
  {
   "cell_type": "markdown",
   "id": "c1e9fe42",
   "metadata": {},
   "source": [
    "# 1. Tensors"
   ]
  },
  {
   "cell_type": "markdown",
   "id": "82a694ab",
   "metadata": {},
   "source": [
    "Similar to numpy arrays, Tensors are multi-dimensioanl arrays of a uniform datatype. Unlike numpy arrays however, Tensors are immputable; i.e. you can't update the contents of a tensor."
   ]
  },
  {
   "cell_type": "markdown",
   "id": "59955c35",
   "metadata": {},
   "source": [
    "Tensors are described by their:\n",
    "\n",
    "- __Shape__: Length of each of the axes\n",
    "- __Rank__: Number of axes\n",
    "- __Size__: Total number of elements in the tensor."
   ]
  },
  {
   "cell_type": "markdown",
   "id": "2fbce93e",
   "metadata": {},
   "source": [
    "Lets instantiate some basic Tensors"
   ]
  },
  {
   "cell_type": "code",
   "execution_count": 3,
   "id": "1301f096",
   "metadata": {},
   "outputs": [
    {
     "name": "stdout",
     "output_type": "stream",
     "text": [
      "tf.Tensor(\n",
      "[[1 2 3]\n",
      " [4 5 6]\n",
      " [7 8 9]], shape=(3, 3), dtype=int32)\n",
      "dtype: <dtype: 'int32'>\n",
      "shape: (3, 3)\n"
     ]
    }
   ],
   "source": [
    "# Create a tensor\n",
    "\n",
    "x = tf.constant([[1, 2, 3], [4, 5, 6], [7, 8, 9]])\n",
    "print(x)\n",
    "print(\"dtype:\", x.dtype)\n",
    "print(\"shape:\", x.shape)"
   ]
  },
  {
   "cell_type": "code",
   "execution_count": 4,
   "id": "fed94e2f",
   "metadata": {},
   "outputs": [
    {
     "name": "stdout",
     "output_type": "stream",
     "text": [
      "<dtype: 'float64'>\n"
     ]
    }
   ],
   "source": [
    "# We can also specify the dtype\n",
    "\n",
    "x = tf.constant([[1,2,3],[4,5,6],[7,8,9]], dtype=tf.float64)\n",
    "print(x.dtype)"
   ]
  },
  {
   "cell_type": "code",
   "execution_count": 5,
   "id": "c93d6a11",
   "metadata": {},
   "outputs": [
    {
     "name": "stdout",
     "output_type": "stream",
     "text": [
      "\n",
      " Zeros:\n",
      "  tf.Tensor([[0. 0. 0. 0. 0. 0.]], shape=(1, 6), dtype=float32)\n",
      "\n",
      " Ones:\n",
      "  tf.Tensor(\n",
      "[[1. 1. 1.]\n",
      " [1. 1. 1.]], shape=(2, 3), dtype=float32)\n",
      "\n",
      " Eights:  tf.Tensor(\n",
      "[[8 8 8 8]\n",
      " [8 8 8 8]\n",
      " [8 8 8 8]], shape=(3, 4), dtype=int32)\n",
      "\n",
      "\n",
      " normal:\n",
      "  tf.Tensor(\n",
      "[[0.4934377  1.5470562 ]\n",
      " [0.25889778 1.0750511 ]], shape=(2, 2), dtype=float32)\n",
      "\n",
      " uniform:\n",
      "  tf.Tensor(\n",
      "[[8]\n",
      " [2]], shape=(2, 1), dtype=int32)\n",
      "\n",
      " poisson:  tf.Tensor(\n",
      "[[6. 6.]\n",
      " [3. 4.]], shape=(2, 2), dtype=float32)\n"
     ]
    }
   ],
   "source": [
    "# Some other common methods of instantiating tensors:\n",
    "\n",
    "# Constants\n",
    "zeros = tf.zeros(shape=(1,6))\n",
    "ones = tf.ones(shape=(2,3))\n",
    "eights = tf.constant(8, shape=(3,4))\n",
    "\n",
    "print(\"\\n Zeros:\\n \", zeros)\n",
    "print(\"\\n Ones:\\n \", ones)\n",
    "print(\"\\n Eights: \", eights)\n",
    "\n",
    "\n",
    "# Randomly sampled\n",
    "normal = tf.random.normal(shape=(2,2), mean=0, stddev=1.)\n",
    "uniform = tf.random.uniform(shape=(2,1), minval=0, maxval=10, dtype='int32')\n",
    "poisson = tf.random.poisson((2,2), 5)\n",
    "\n",
    "\n",
    "print(\"\\n\\n normal:\\n \", normal)\n",
    "print(\"\\n uniform:\\n \", uniform)\n",
    "print(\"\\n poisson: \", poisson)"
   ]
  },
  {
   "cell_type": "code",
   "execution_count": 6,
   "id": "79e7232e",
   "metadata": {},
   "outputs": [
    {
     "name": "stdout",
     "output_type": "stream",
     "text": [
      "Rank of rank_2_tensor :  tf.Tensor(2, shape=(), dtype=int32)\n",
      "Rank of rank_3_tensor :  tf.Tensor(3, shape=(), dtype=int32)\n",
      "\n",
      "Rank of rank_2_tensor :  (3, 2)\n",
      "Rank of rank_3_tensor :  (3, 2, 5)\n",
      "\n",
      "Rank of rank_2_tensor :  tf.Tensor(6, shape=(), dtype=int32)\n",
      "Rank of rank_3_tensor :  tf.Tensor(30, shape=(), dtype=int32)\n"
     ]
    }
   ],
   "source": [
    "# Tensors of different ranks\n",
    "\n",
    "# Scalar\n",
    "rank_0_tensor = tf.constant(6) \n",
    "# Vector\n",
    "rank_1_tensor = tf.constant([2.0, 3.0, 4.0])\n",
    "# Matrix\n",
    "rank_2_tensor = tf.constant([[1, 2],\n",
    "                             [3, 4],\n",
    "                             [5, 6]], dtype=tf.float16)\n",
    "\n",
    "# Generalizable to arbitrary number of axes\n",
    "rank_3_tensor = tf.constant([\n",
    "  [[0, 1, 2, 3, 4],\n",
    "   [5, 6, 7, 8, 9]],\n",
    "  [[10, 11, 12, 13, 14],\n",
    "   [15, 16, 17, 18, 19]],\n",
    "  [[20, 21, 22, 23, 24],\n",
    "   [25, 26, 27, 28, 29]],])\n",
    "\n",
    "\n",
    "# Print the rank, shape and size of tensors\n",
    "print( 'Rank of rank_2_tensor : ', tf.rank(rank_2_tensor) )\n",
    "print( 'Rank of rank_3_tensor : ', tf.rank(rank_3_tensor) )\n",
    "print()\n",
    "print( 'Rank of rank_2_tensor : ', rank_2_tensor.shape )\n",
    "print( 'Rank of rank_3_tensor : ', rank_3_tensor.shape )\n",
    "print()\n",
    "print( 'Rank of rank_2_tensor : ', tf.size(rank_2_tensor) )\n",
    "print( 'Rank of rank_3_tensor : ', tf.size(rank_3_tensor) )"
   ]
  },
  {
   "cell_type": "markdown",
   "id": "d7d436a9",
   "metadata": {},
   "source": [
    "#### a) A few basic math operations"
   ]
  },
  {
   "cell_type": "code",
   "execution_count": 7,
   "id": "4fd74334",
   "metadata": {},
   "outputs": [
    {
     "name": "stdout",
     "output_type": "stream",
     "text": [
      "tf.Tensor(\n",
      "[[2. 3.]\n",
      " [3. 5.]], shape=(2, 2), dtype=float32) \n",
      "\n",
      "tf.Tensor(\n",
      "[[0. 1.]\n",
      " [3. 3.]], shape=(2, 2), dtype=float32) \n",
      "\n",
      "tf.Tensor(\n",
      "[[1. 2.]\n",
      " [0. 4.]], shape=(2, 2), dtype=float32) \n",
      "\n",
      "tf.Tensor(\n",
      "[[1. 3.]\n",
      " [3. 7.]], shape=(2, 2), dtype=float32) \n",
      "\n"
     ]
    }
   ],
   "source": [
    "a = tf.constant([[1.0, 2.0], \n",
    "                 [3.0, 4.0]])\n",
    "b = tf.constant([[1.0, 1.0], \n",
    "                 [0.0, 1.0]])\n",
    "\n",
    "\n",
    "print(tf.add(a, b), \"\\n\")\n",
    "print(tf.subtract(a,b), \"\\n\")\n",
    "print(tf.multiply(a, b), \"\\n\")\n",
    "print(tf.matmul(a, b), \"\\n\")"
   ]
  },
  {
   "cell_type": "code",
   "execution_count": 8,
   "id": "c9ff3ef7",
   "metadata": {},
   "outputs": [
    {
     "name": "stdout",
     "output_type": "stream",
     "text": [
      "tf.Tensor(\n",
      "[[2. 3.]\n",
      " [3. 5.]], shape=(2, 2), dtype=float32) \n",
      "\n",
      "tf.Tensor(\n",
      "[[0. 1.]\n",
      " [3. 3.]], shape=(2, 2), dtype=float32) \n",
      "\n",
      "tf.Tensor(\n",
      "[[1. 2.]\n",
      " [0. 4.]], shape=(2, 2), dtype=float32) \n",
      "\n",
      "tf.Tensor(\n",
      "[[1. 3.]\n",
      " [3. 7.]], shape=(2, 2), dtype=float32) \n",
      "\n"
     ]
    }
   ],
   "source": [
    "# Equivalently\n",
    "print(a + b, \"\\n\") # element-wise addition\n",
    "print(a - b, \"\\n\") # element-wise subtraction\n",
    "print(a * b, \"\\n\") # element-wise multiplication\n",
    "print(a @ b, \"\\n\") # matrix multiplication"
   ]
  },
  {
   "cell_type": "code",
   "execution_count": 9,
   "id": "4b5d8472",
   "metadata": {},
   "outputs": [
    {
     "name": "stdout",
     "output_type": "stream",
     "text": [
      "\n",
      "  tf.Tensor(\n",
      "[[1. 2.]\n",
      " [3. 4.]], shape=(2, 2), dtype=float32)\n",
      "\n",
      "  tf.Tensor(\n",
      "[[1. 2.]\n",
      " [1. 4.]], shape=(2, 2), dtype=float32)\n"
     ]
    }
   ],
   "source": [
    "# Taking the absolute value\n",
    "abs_a = tf.abs(a)\n",
    "\n",
    "# Raising to a power\n",
    "pow_ba = tf.pow(a,b)\n",
    "\n",
    "print(\"\\n \", abs_a)\n",
    "print(\"\\n \", pow_ba)"
   ]
  },
  {
   "cell_type": "markdown",
   "id": "7ca8fe79",
   "metadata": {},
   "source": [
    "#### b) Indexing, Slicing and Reshaping"
   ]
  },
  {
   "cell_type": "markdown",
   "id": "b2f80620",
   "metadata": {},
   "source": [
    "The indexing, slicing and reshaping rules are similar to NumPy.\n",
    "\n",
    "- index starts at 0\n",
    "- colons `:` are used for slices `start:stop:step`"
   ]
  },
  {
   "cell_type": "code",
   "execution_count": 10,
   "id": "f53e56ad",
   "metadata": {},
   "outputs": [
    {
     "name": "stdout",
     "output_type": "stream",
     "text": [
      "tf.Tensor([1 2 3], shape=(3,), dtype=int32)\n"
     ]
    }
   ],
   "source": [
    "t1 = tf.constant([0, 1, 2, 3, 4, 5, 6, 7])\n",
    "\n",
    "\n",
    "\n",
    "print(t1[1:4])"
   ]
  },
  {
   "cell_type": "code",
   "execution_count": 11,
   "id": "db654097",
   "metadata": {},
   "outputs": [
    {
     "name": "stdout",
     "output_type": "stream",
     "text": [
      "tf.Tensor([1 2 3], shape=(3,), dtype=int32)\n"
     ]
    }
   ],
   "source": [
    "# Alternatively\n",
    "\n",
    "print(tf.slice(t1,\n",
    "               begin=[1],\n",
    "               size=[3]))"
   ]
  },
  {
   "cell_type": "code",
   "execution_count": 12,
   "id": "bf3cc5b0",
   "metadata": {},
   "outputs": [
    {
     "name": "stdout",
     "output_type": "stream",
     "text": [
      "\n",
      " a:\n",
      "  tf.Tensor(\n",
      "[[ 0  1]\n",
      " [ 2  3]\n",
      " [ 4  5]\n",
      " [ 6  7]\n",
      " [ 8  9]\n",
      " [10 11]\n",
      " [12 13]\n",
      " [14 15]], shape=(8, 2), dtype=int32)\n",
      "\n",
      " b:\n",
      "  tf.Tensor(\n",
      "[[ 0  1  2  3]\n",
      " [ 4  5  6  7]\n",
      " [ 8  9 10 11]\n",
      " [12 13 14 15]], shape=(4, 4), dtype=int32)\n",
      "\n",
      " c:\n",
      "  tf.Tensor(\n",
      "[[[[ 0  1]\n",
      "   [ 2  3]]\n",
      "\n",
      "  [[ 4  5]\n",
      "   [ 6  7]]]\n",
      "\n",
      "\n",
      " [[[ 8  9]\n",
      "   [10 11]]\n",
      "\n",
      "  [[12 13]\n",
      "   [14 15]]]], shape=(2, 2, 2, 2), dtype=int32)\n"
     ]
    }
   ],
   "source": [
    "# Reshaping\n",
    "\n",
    "x = tf.constant([0, 1, 2, 3, 4, 5, 6, 7, 8, 9, 10, 11, 12, 13, 14, 15])\n",
    "\n",
    "shape1 = [8,2]\n",
    "shape2 = [4,4]\n",
    "shape3 = [2,2,2,2]\n",
    "\n",
    "\n",
    "# Create Tensors of different shape\n",
    "\n",
    "a = tf.constant(x, shape=shape1)\n",
    "print(\"\\n a:\\n \", a)\n",
    "\n",
    "b = tf.constant(x, shape=shape2)\n",
    "print(\"\\n b:\\n \", b)\n",
    "\n",
    "c = tf.constant(x, shape=shape3)\n",
    "print(\"\\n c:\\n \", c)"
   ]
  },
  {
   "cell_type": "code",
   "execution_count": 13,
   "id": "d72cf5bc",
   "metadata": {},
   "outputs": [
    {
     "name": "stdout",
     "output_type": "stream",
     "text": [
      "\n",
      " After expanding dims:\n",
      " t1 shape:  (1, 2, 2, 2, 2) \n",
      " t2 shape:  (2, 1, 2, 2, 2) \n",
      " t3 shape:  (2, 2, 2, 1, 2)\n",
      "\n",
      " After squeezing:\n",
      " t1 shape:  (2, 2, 2, 2) \n",
      " t2 shape:  (2, 2, 2, 2) \n",
      " t3 shape:  (2, 2, 2, 2)\n"
     ]
    }
   ],
   "source": [
    "# Expanding rank of Tensors\n",
    "\n",
    "t1 = tf.expand_dims(c, 0)\n",
    "t2 = tf.expand_dims(c, 1)\n",
    "t3 = tf.expand_dims(c, 3)\n",
    "\n",
    "print(\"\\n After expanding dims:\\n t1 shape: \", t1.shape, \"\\n t2 shape: \", t2.shape, \"\\n t3 shape: \", t3.shape)\n",
    "\n",
    "\n",
    "# Squeezing redundant dimensions\n",
    "\n",
    "t1 = tf.squeeze(t1, 0)\n",
    "t2 = tf.squeeze(t2, 1)\n",
    "t3 = tf.squeeze(t3, 3)\n",
    "\n",
    "print(\"\\n After squeezing:\\n t1 shape: \", t1.shape, \"\\n t2 shape: \", t2.shape, \"\\n t3 shape: \", t3.shape)"
   ]
  },
  {
   "cell_type": "markdown",
   "id": "3e4b8aeb",
   "metadata": {},
   "source": [
    "#### c) Converting between Numpy Arrays and Tensorflow Tensors "
   ]
  },
  {
   "cell_type": "code",
   "execution_count": 14,
   "id": "44e3d337",
   "metadata": {},
   "outputs": [
    {
     "name": "stdout",
     "output_type": "stream",
     "text": [
      "Numpy array:  [ 0  1  2  3  4  5  6  7  8  9 10 11]\n",
      "Tensor:  tf.Tensor([ 0.  1.  2.  3.  4.  5.  6.  7.  8.  9. 10. 11.], shape=(12,), dtype=float32)\n"
     ]
    }
   ],
   "source": [
    "# Numpy array to tensor\n",
    "\n",
    "Array = np.arange(12)\n",
    "print('Numpy array: ', Array)\n",
    "\n",
    "\n",
    "Tensor = tf.constant(Array, dtype=tf.float32)\n",
    "print('Tensor: ', Tensor)"
   ]
  },
  {
   "cell_type": "code",
   "execution_count": 15,
   "id": "5da92144",
   "metadata": {},
   "outputs": [
    {
     "data": {
      "text/plain": [
       "array([ 0.,  1.,  2.,  3.,  4.,  5.,  6.,  7.,  8.,  9., 10., 11.],\n",
       "      dtype=float32)"
      ]
     },
     "execution_count": 15,
     "metadata": {},
     "output_type": "execute_result"
    }
   ],
   "source": [
    "# Tensor to Numpy array \n",
    "\n",
    "Tensor.numpy()"
   ]
  },
  {
   "cell_type": "markdown",
   "id": "f8bb1059",
   "metadata": {},
   "source": [
    "# 2. Variables "
   ]
  },
  {
   "cell_type": "markdown",
   "id": "a78cd63a",
   "metadata": {},
   "source": [
    "Recall that Tensors are immutabele. Hence the following will throw an error:\n",
    "\n",
    "```\n",
    "x = tf.constant([[1,1],\n",
    "                 [1,1]], dtype=tf.int32)\n",
    "x[1,1] = 0\n",
    "---------------------------------------------------------------------------\n",
    "TypeError: 'tensorflow.python.framework.ops.EagerTensor' object does not support item assignment\n",
    "\n",
    "```\n",
    "\n",
    "However, training a model means updating its parameters, which are a set of tensors. This is where `tf.Variable` comes in. A variable is a tensor whose value be changed."
   ]
  },
  {
   "cell_type": "code",
   "execution_count": 16,
   "id": "c651c5ef",
   "metadata": {},
   "outputs": [
    {
     "name": "stdout",
     "output_type": "stream",
     "text": [
      "Shape:  (2, 2)\n",
      "DType:  <dtype: 'float32'>\n",
      "As NumPy:  [[1. 2.]\n",
      " [3. 4.]]\n"
     ]
    }
   ],
   "source": [
    "# To create a variable, we need to provide an initial value\n",
    "\n",
    "my_tensor = tf.constant([[1.0, 2.0], [3.0, 4.0]])\n",
    "my_variable = tf.Variable(initial_value=my_tensor)\n",
    "\n",
    "print(\"Shape: \", my_variable.shape)\n",
    "print(\"DType: \", my_variable.dtype)\n",
    "print(\"As NumPy: \", my_variable.numpy())"
   ]
  },
  {
   "cell_type": "code",
   "execution_count": 17,
   "id": "d8b9203d",
   "metadata": {},
   "outputs": [
    {
     "data": {
      "text/plain": [
       "<tf.Variable 'UnreadVariable' shape=(2, 2) dtype=float32, numpy=\n",
       "array([[0., 0.],\n",
       "       [0., 0.]], dtype=float32)>"
      ]
     },
     "execution_count": 17,
     "metadata": {},
     "output_type": "execute_result"
    }
   ],
   "source": [
    "# The state of a variable can be modified via its assign method\n",
    "\n",
    "my_variable.assign(tf.zeros((2,2)))"
   ]
  },
  {
   "cell_type": "code",
   "execution_count": 18,
   "id": "997a7314",
   "metadata": {},
   "outputs": [
    {
     "data": {
      "text/plain": [
       "<tf.Variable 'UnreadVariable' shape=(2, 2) dtype=float32, numpy=\n",
       "array([[0., 1.],\n",
       "       [0., 1.]], dtype=float32)>"
      ]
     },
     "execution_count": 18,
     "metadata": {},
     "output_type": "execute_result"
    }
   ],
   "source": [
    "# We can also re-assign a subset of the coefficients\n",
    "\n",
    "my_variable[:, 1].assign([1,1])"
   ]
  },
  {
   "cell_type": "code",
   "execution_count": 19,
   "id": "9f9afc0e",
   "metadata": {},
   "outputs": [
    {
     "name": "stdout",
     "output_type": "stream",
     "text": [
      "<tf.Variable 'UnreadVariable' shape=(2, 2) dtype=float32, numpy=\n",
      "array([[1., 2.],\n",
      "       [1., 2.]], dtype=float32)>\n",
      "<tf.Variable 'UnreadVariable' shape=(2, 2) dtype=float32, numpy=\n",
      "array([[0., 1.],\n",
      "       [0., 1.]], dtype=float32)>\n"
     ]
    }
   ],
   "source": [
    "# We can also assign_add and assign_sub\n",
    "\n",
    "print( my_variable.assign_add( tf.constant([[1.,1.],[1.,1.]]) ))\n",
    "print( my_variable.assign_sub( tf.constant([[1.,1.],[1.,1.]]) ))"
   ]
  },
  {
   "cell_type": "code",
   "execution_count": 20,
   "id": "d677dca4",
   "metadata": {},
   "outputs": [
    {
     "name": "stdout",
     "output_type": "stream",
     "text": [
      "tf.Tensor(\n",
      "[[2. 3.]\n",
      " [4. 5.]], shape=(2, 2), dtype=float32)\n",
      "tf.Tensor(\n",
      "[[3. 3.]\n",
      " [7. 7.]], shape=(2, 2), dtype=float32)\n"
     ]
    }
   ],
   "source": [
    "# Math ops will return a Tensor. Most Tensor ops will also apply to Variables.\n",
    "\n",
    "a = tf.Variable([[1.0, 2.0], \n",
    "                 [3.0, 4.0]])\n",
    "b = tf.Variable(tf.ones(shape=(2,2), dtype=tf.float32))\n",
    "\n",
    "# Element wise addition\n",
    "print( a + b )\n",
    "\n",
    "# Matrix multiplication\n",
    "print( a @ b )"
   ]
  },
  {
   "cell_type": "code",
   "execution_count": 21,
   "id": "64194a78",
   "metadata": {},
   "outputs": [
    {
     "ename": "ValueError",
     "evalue": "Cannot assign to variable Variable:0 due to variable shape (2, 2) and value shape (3, 2) are incompatible",
     "output_type": "error",
     "traceback": [
      "\u001b[0;31m---------------------------------------------------------------------------\u001b[0m",
      "\u001b[0;31mValueError\u001b[0m                                Traceback (most recent call last)",
      "\u001b[0;32m/tmp/ipykernel_6415/2027149497.py\u001b[0m in \u001b[0;36m<module>\u001b[0;34m\u001b[0m\n\u001b[1;32m      1\u001b[0m \u001b[0;31m#  Except Variables cannot be reshaped\u001b[0m\u001b[0;34m\u001b[0m\u001b[0;34m\u001b[0m\u001b[0m\n\u001b[1;32m      2\u001b[0m \u001b[0;34m\u001b[0m\u001b[0m\n\u001b[0;32m----> 3\u001b[0;31m \u001b[0ma\u001b[0m\u001b[0;34m.\u001b[0m\u001b[0massign\u001b[0m\u001b[0;34m(\u001b[0m \u001b[0mtf\u001b[0m\u001b[0;34m.\u001b[0m\u001b[0mones\u001b[0m\u001b[0;34m(\u001b[0m\u001b[0mshape\u001b[0m\u001b[0;34m=\u001b[0m\u001b[0;34m(\u001b[0m\u001b[0;36m3\u001b[0m\u001b[0;34m,\u001b[0m\u001b[0;36m2\u001b[0m\u001b[0;34m)\u001b[0m\u001b[0;34m,\u001b[0m \u001b[0mdtype\u001b[0m\u001b[0;34m=\u001b[0m\u001b[0mtf\u001b[0m\u001b[0;34m.\u001b[0m\u001b[0mfloat32\u001b[0m\u001b[0;34m)\u001b[0m \u001b[0;34m)\u001b[0m\u001b[0;34m\u001b[0m\u001b[0;34m\u001b[0m\u001b[0m\n\u001b[0m",
      "\u001b[0;32m~/.conda/envs/tf2.5_old/lib/python3.9/site-packages/tensorflow/python/ops/resource_variable_ops.py\u001b[0m in \u001b[0;36massign\u001b[0;34m(self, value, use_locking, name, read_value)\u001b[0m\n\u001b[1;32m    896\u001b[0m         \u001b[0;32melse\u001b[0m\u001b[0;34m:\u001b[0m\u001b[0;34m\u001b[0m\u001b[0;34m\u001b[0m\u001b[0m\n\u001b[1;32m    897\u001b[0m           \u001b[0mtensor_name\u001b[0m \u001b[0;34m=\u001b[0m \u001b[0;34m\" \"\u001b[0m \u001b[0;34m+\u001b[0m \u001b[0mstr\u001b[0m\u001b[0;34m(\u001b[0m\u001b[0mself\u001b[0m\u001b[0;34m.\u001b[0m\u001b[0mname\u001b[0m\u001b[0;34m)\u001b[0m\u001b[0;34m\u001b[0m\u001b[0;34m\u001b[0m\u001b[0m\n\u001b[0;32m--> 898\u001b[0;31m         raise ValueError(\n\u001b[0m\u001b[1;32m    899\u001b[0m             (\"Cannot assign to variable%s due to variable shape %s and value \"\n\u001b[1;32m    900\u001b[0m              \"shape %s are incompatible\") %\n",
      "\u001b[0;31mValueError\u001b[0m: Cannot assign to variable Variable:0 due to variable shape (2, 2) and value shape (3, 2) are incompatible"
     ]
    }
   ],
   "source": [
    "#  Except Variables cannot be reshaped\n",
    "\n",
    "a.assign( tf.ones(shape=(3,2), dtype=tf.float32) )"
   ]
  },
  {
   "cell_type": "code",
   "execution_count": 22,
   "id": "3da94910",
   "metadata": {},
   "outputs": [
    {
     "name": "stdout",
     "output_type": "stream",
     "text": [
      "string_var:0\n",
      "float_var:0\n"
     ]
    }
   ],
   "source": [
    "# We can also name our variables\n",
    "\n",
    "x = tf.Variable([\"Hello world!\"], tf.string, name='string_var')\n",
    "y  = tf.Variable([3.14159, 2.71828], tf.float64, name='float_var')\n",
    "\n",
    "print(x.name)\n",
    "print(y.name)\n",
    "\n",
    "# By default, variables in models will acquire unique names automatically."
   ]
  },
  {
   "cell_type": "markdown",
   "id": "2154d32d",
   "metadata": {},
   "source": [
    "# 3. Automatic Differentiation "
   ]
  },
  {
   "cell_type": "markdown",
   "id": "b213e3ea",
   "metadata": {},
   "source": [
    "#### Gradient Tapes "
   ]
  },
  {
   "cell_type": "markdown",
   "id": "d8c494df",
   "metadata": {},
   "source": [
    "\" TensorFlow provides the __tf.GradientTape__ API for __automatic differentiation__; that is, computing the gradient of a computation with respect to some inputs, usually __tf.Variables__. TensorFlow \"records\" relevant operations executed inside the context of a tf.GradientTape onto a \"tape\". TensorFlow then uses that tape to compute the gradients of a \"recorded\" computation using reverse mode differentiation. \""
   ]
  },
  {
   "cell_type": "code",
   "execution_count": 23,
   "id": "dcc45895",
   "metadata": {},
   "outputs": [
    {
     "name": "stdout",
     "output_type": "stream",
     "text": [
      "10.0\n"
     ]
    }
   ],
   "source": [
    "# An example\n",
    "\n",
    "x = tf.Variable(initial_value=5.0)\n",
    "\n",
    "with tf.GradientTape() as tape:\n",
    "    y = tf.square(x)\n",
    "\n",
    "    \n",
    "# dy/dx = 2x\n",
    "dy_dx = tape.gradient(y, x)\n",
    "\n",
    "print( dy_dx.numpy() )"
   ]
  },
  {
   "cell_type": "markdown",
   "id": "8c96620d",
   "metadata": {},
   "source": [
    "__Gradient Tape tracks only trainable variables by default. However, it is also possible to track a constant tensor by calling `tape.watch()` on it:__"
   ]
  },
  {
   "cell_type": "code",
   "execution_count": 24,
   "id": "98be2ea2",
   "metadata": {},
   "outputs": [
    {
     "name": "stdout",
     "output_type": "stream",
     "text": [
      "10.0\n"
     ]
    }
   ],
   "source": [
    "x = tf.constant(5.0)\n",
    "\n",
    "with tf.GradientTape() as tape:\n",
    "    tape.watch(x)\n",
    "    y = tf.square(x)\n",
    "\n",
    "    \n",
    "# dy/dx = 2x\n",
    "dy_dx = tape.gradient(y, x)\n",
    "\n",
    "print( dy_dx.numpy() )"
   ]
  },
  {
   "cell_type": "markdown",
   "id": "75ad2d8a",
   "metadata": {},
   "source": [
    "__GradientTape also works on list of inputs, and the inputs could be either scalars or high-dimensional tensors.__"
   ]
  },
  {
   "cell_type": "code",
   "execution_count": 25,
   "id": "082487f7",
   "metadata": {},
   "outputs": [
    {
     "name": "stdout",
     "output_type": "stream",
     "text": [
      "70.0\n",
      "14.0\n"
     ]
    }
   ],
   "source": [
    "w = tf.Variable(1.0, name='w')\n",
    "b = tf.Variable(2.0, name='b')\n",
    "x = 5.\n",
    "\n",
    "with tf.GradientTape(persistent=True) as tape:\n",
    "    y = (x * w + b)\n",
    "    z = y**2\n",
    "\n",
    "\n",
    "[dz_dw, dz_db] = tape.gradient(z, [w, b])\n",
    "\n",
    "# dz_dw = 2x(x*w + b); dz_db = 2(x*w + b)\n",
    "print( dz_dw.numpy() )\n",
    "print( dz_db.numpy() )"
   ]
  },
  {
   "cell_type": "code",
   "execution_count": 26,
   "id": "8df840fc",
   "metadata": {},
   "outputs": [
    {
     "data": {
      "text/plain": [
       "14.0"
      ]
     },
     "execution_count": 26,
     "metadata": {},
     "output_type": "execute_result"
    }
   ],
   "source": [
    "# It also possible to compute gradients w.r.t intermediate results\n",
    "\n",
    "dz_dy = tape.gradient(z, y)\n",
    "dz_dy.numpy()"
   ]
  },
  {
   "cell_type": "markdown",
   "id": "5794054f",
   "metadata": {},
   "source": [
    "__It is even possible to compute second order derivatives with nested gradient tapes__"
   ]
  },
  {
   "cell_type": "markdown",
   "id": "08f79453",
   "metadata": {},
   "source": [
    "For example:\n",
    "\n",
    "\\begin{align}\n",
    "\\ s &= \\frac{1}{2}at^2 \\\\\n",
    "\\end{align}\n",
    "\n",
    "then,\n",
    "\n",
    "$$ v = \\frac{ds}{dt} $$\n",
    "$$ a = \\frac{dv}{dt} $$"
   ]
  },
  {
   "cell_type": "code",
   "execution_count": 27,
   "id": "9f81d13e",
   "metadata": {},
   "outputs": [
    {
     "name": "stdout",
     "output_type": "stream",
     "text": [
      "Speed at t=1.0 is 9.8\n",
      "Acceleration at t=1.0 is 9.8\n"
     ]
    }
   ],
   "source": [
    "t = tf.Variable(0.)\n",
    "\n",
    "clock = tf.constant(1.); t.assign(clock)\n",
    "a = tf.constant(9.8)\n",
    "\n",
    "with tf.GradientTape() as outer_tape:\n",
    "    with tf.GradientTape() as inner_tape:\n",
    "        s = (a/2)*(t**2)\n",
    "    \n",
    "    speed = inner_tape.gradient(s, t)\n",
    "acceleration = outer_tape.gradient(speed, t)\n",
    "\n",
    "\n",
    "print(f'Speed at t={clock.numpy()} is {speed:.1f}')\n",
    "print(f'Acceleration at t={clock.numpy()} is {acceleration:.1f}')"
   ]
  },
  {
   "cell_type": "markdown",
   "id": "1706c44f",
   "metadata": {},
   "source": [
    "## 4. Back to Linear Regression: An end to end example "
   ]
  },
  {
   "cell_type": "code",
   "execution_count": 28,
   "id": "a70bcbf9",
   "metadata": {},
   "outputs": [
    {
     "name": "stdout",
     "output_type": "stream",
     "text": [
      "Random guess for m and b: (array([0.35740226]), array([-0.03615558]))\n"
     ]
    },
    {
     "data": {
      "image/png": "[encoded data removed]",
      "text/plain": [
       "<Figure size 432x288 with 1 Axes>"
      ]
     },
     "metadata": {
      "needs_background": "light"
     },
     "output_type": "display_data"
    }
   ],
   "source": [
    "X = np.arange(0,70, 1, dtype='float64')\n",
    "Y = 2*X\n",
    "noise = 100*np.random.rand(70) \n",
    "Y = Y + noise\n",
    "\n",
    "m = np.random.randn(1)\n",
    "b = np.random.randn(1)\n",
    "print(f'Random guess for m and b:',(m,b))\n",
    "\n",
    "# Initial random prediction\n",
    "Y_pred = m*X + b\n",
    "\n",
    "plt.scatter(X, Y) \n",
    "plt.plot([X[0], X[-1]], [Y_pred[0], Y_pred[-1]], color='red')  # regression line\n",
    "plt.show()"
   ]
  },
  {
   "cell_type": "markdown",
   "id": "53d3e57a",
   "metadata": {},
   "source": [
    "Previously, we had:\n",
    "\n",
    "```\n",
    "alpha = 0.0001                             # The learning Rate\n",
    "epochs = 10000                             # The number of iterations to perform gradient descent\n",
    "\n",
    "n = float(len(X))                          # Number of elements in X\n",
    "\n",
    "# Training the Neural Net\n",
    "for i in range(epochs): \n",
    "    Y_pred = m*X + b                       # The current predicted value of Y\n",
    "    Loss = sum((Y - Y_pred )**2)/n         # Compute loss\n",
    "    D_m = (-2/n) * sum(X * (Y - Y_pred))   # Derivative wrt m\n",
    "    D_b = (-2/n) * sum(Y - Y_pred)         # Derivative wrt b\n",
    "    m = m - alpha * D_m                    # Update m\n",
    "    b = b - alpha * D_b                    # Update b\n",
    "    \n",
    "    if i%1000 == 0:\n",
    "        print( \"Epoch {}, Loss : {}\".format(i, Loss))\n",
    "print( \"Epoch {}, Loss : {}\".format(i, Loss))\n",
    "```"
   ]
  },
  {
   "cell_type": "code",
   "execution_count": 29,
   "id": "03359457",
   "metadata": {},
   "outputs": [
    {
     "name": "stdout",
     "output_type": "stream",
     "text": [
      "Epoch 0, Loss : 13258.59556208005\n",
      "Epoch 1000, Loss : 1423.722013573568\n",
      "Epoch 2000, Loss : 1364.471526135359\n",
      "Epoch 3000, Loss : 1310.9726472162279\n",
      "Epoch 4000, Loss : 1262.667052286081\n",
      "Epoch 5000, Loss : 1219.0506149195587\n",
      "Epoch 6000, Loss : 1179.6681456362653\n",
      "Epoch 7000, Loss : 1144.1086414563106\n",
      "Epoch 8000, Loss : 1112.000996594624\n",
      "Epoch 9000, Loss : 1083.0101295300256\n",
      "Epoch 9999, Loss : 1056.8583501931691\n"
     ]
    }
   ],
   "source": [
    "M = tf.Variable(initial_value=m)\n",
    "B = tf.Variable(initial_value=b)\n",
    "X = tf.constant(X)\n",
    "Y = tf.constant(Y)\n",
    "\n",
    "\n",
    "alpha = 0.0001                             # The learning Rate\n",
    "epochs = 10000                             # The number of iterations to perform gradient descent\n",
    "\n",
    "\n",
    "# Training the Neural Net\n",
    "for i in range(epochs): \n",
    "    \n",
    "    with tf.GradientTape() as tape:\n",
    "        Y_pred = M*X + B\n",
    "        Loss = tf.reduce_mean((Y - Y_pred )**2)\n",
    "        \n",
    "    # Compute Gradient\n",
    "    dL_dM, dL_dB = tape.gradient(Loss, [M, B])\n",
    "    \n",
    "    # Update Parameters\n",
    "    M.assign_sub( alpha*dL_dM )\n",
    "    B.assign_sub( alpha*dL_dB )\n",
    "    \n",
    "    if i%1000 == 0:\n",
    "        print( \"Epoch {}, Loss : {}\".format(i, Loss.numpy()))\n",
    "print( \"Epoch {}, Loss : {}\".format(i, Loss.numpy()))"
   ]
  },
  {
   "cell_type": "code",
   "execution_count": 30,
   "id": "378e0a73",
   "metadata": {},
   "outputs": [
    {
     "data": {
      "image/png": "[encoded data removed]",
      "text/plain": [
       "<Figure size 432x288 with 1 Axes>"
      ]
     },
     "metadata": {
      "needs_background": "light"
     },
     "output_type": "display_data"
    }
   ],
   "source": [
    "# Making predictions\n",
    "Y_pred = M*X + B\n",
    "\n",
    "plt.scatter(X, Y) \n",
    "plt.plot([X[0], X[-1]], [Y_pred[0], Y_pred[-1]], color='red')  # regression line\n",
    "plt.show()"
   ]
  },
  {
   "cell_type": "code",
   "execution_count": null,
   "id": "eed51919",
   "metadata": {},
   "outputs": [],
   "source": []
  }
 ],
 "metadata": {
  "kernelspec": {
   "display_name": "Python 3 (ipykernel)",
   "language": "python",
   "name": "python3"
  },
  "language_info": {
   "codemirror_mode": {
    "name": "ipython",
    "version": 3
   },
   "file_extension": ".py",
   "mimetype": "text/x-python",
   "name": "python",
   "nbconvert_exporter": "python",
   "pygments_lexer": "ipython3",
   "version": "3.9.7"
  }
 },
 "nbformat": 4,
 "nbformat_minor": 5
}
